{
 "cells": [
  {
   "cell_type": "markdown",
   "metadata": {},
   "source": [
    "Given a list of numbers, find out how many even numbers it has.\n"
   ]
  },
  {
   "cell_type": "code",
   "execution_count": null,
   "metadata": {},
   "outputs": [],
   "source": [
    "# Given a list of numbers\n",
    "lst_2 = [2, 22, 33, 41, 6, 7, 39]\n",
    "\n",
    "# Defining a variable\n",
    "a = 0\n",
    "\n",
    "# Iterate through each element in the list 'lst_2'\n",
    "for i in lst_2:\n",
    "    # Check if the current element 'i' is divisible by 2\n",
    "    if i % 2 == 0:\n",
    "        # Add 1 to variable 'a'\n",
    "        a += 1\n",
    "\n",
    "\n",
    "print(\"Number of even numbers in the given list is:\", a)\n"
   ]
  }
 ],
 "metadata": {
  "language_info": {
   "name": "python"
  }
 },
 "nbformat": 4,
 "nbformat_minor": 2
}
