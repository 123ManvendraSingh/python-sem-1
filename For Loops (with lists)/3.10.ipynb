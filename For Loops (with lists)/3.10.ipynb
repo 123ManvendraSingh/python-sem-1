{
 "cells": [
  {
   "cell_type": "markdown",
   "metadata": {},
   "source": [
    "Given a list of numbers, find out the index of another given number.\n"
   ]
  },
  {
   "cell_type": "code",
   "execution_count": null,
   "metadata": {},
   "outputs": [],
   "source": [
    "#Define a list of numbers\n",
    "lst_2=[2, 22, 33, 41, 6, 7, 39, 1, 89]\n",
    "\n",
    "#user input for the number whose index is to be found\n",
    "a=int(input(\"Enter the number of which index is to be found:\"))\n",
    "\n",
    "#Initialize a variable to store the index (initialized to -1)\n",
    "b=-1\n",
    "\n",
    "#Iterate through each element in the list\n",
    "for j in lst_2:\n",
    "    #Check if the user input 'a' is in the list\n",
    "    if a in lst_2:\n",
    "        #Increment the index variable 'b'\n",
    "        b+=1\n",
    "        \n",
    "        #Check if the current element is equal to the user input 'a'\n",
    "        if a==j:\n",
    "            #Print the index of the user input 'a'\n",
    "            print(\"Index of\",a,\"is:\",b)\n",
    "            \n",
    "            #Break out of the loop once the index is found\n",
    "            break\n",
    "    else:\n",
    "        #If the user input 'a' is not present in the list, print a message and break out of the loop\n",
    "        print(a, \"is not present in the list.\")\n",
    "        break\n"
   ]
  }
 ],
 "metadata": {
  "language_info": {
   "name": "python"
  }
 },
 "nbformat": 4,
 "nbformat_minor": 2
}
