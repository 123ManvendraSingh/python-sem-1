{
 "cells": [
  {
   "cell_type": "markdown",
   "metadata": {},
   "source": [
    "Given a list of numbers, create another list in reverse order.\n"
   ]
  },
  {
   "cell_type": "code",
   "execution_count": null,
   "metadata": {},
   "outputs": [],
   "source": [
    "#Given a list of numbers\n",
    "lst_2=[2, 22, 33, 41, 6, 7, 39, 1, 89]\n",
    "\n",
    "#Below used inbuilt function can directly be used to reverse a list.\n",
    "#lst_1 = list(reversed(lst_2))\n",
    "\n",
    "# Making an empty list 'lst_1' to store the reversed elements\n",
    "lst_1=[]\n",
    "\n",
    "for i in range(1, len(lst_2)):\n",
    "    #Append elements from the end of 'lst_2' to 'lst_1'\n",
    "    lst_1.append(lst_2[-i])\n",
    "\n",
    "#Append the first element of 'lst_2' to 'lst_1'\n",
    "lst_1.append(lst_2[0])\n",
    "print(\"Reverse ordered list is:\", lst_1)\n"
   ]
  }
 ],
 "metadata": {
  "kernelspec": {
   "display_name": "Python 3",
   "language": "python",
   "name": "python3"
  },
  "language_info": {
   "codemirror_mode": {
    "name": "ipython",
    "version": 3
   },
   "file_extension": ".py",
   "mimetype": "text/x-python",
   "name": "python",
   "nbconvert_exporter": "python",
   "pygments_lexer": "ipython3",
   "version": "3.11.6"
  }
 },
 "nbformat": 4,
 "nbformat_minor": 2
}
