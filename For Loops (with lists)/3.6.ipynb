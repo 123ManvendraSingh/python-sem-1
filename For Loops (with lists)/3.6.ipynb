{
 "cells": [
  {
   "cell_type": "markdown",
   "metadata": {},
   "source": [
    "Given a list of numbers, find all the odd numbers in it.\n"
   ]
  },
  {
   "cell_type": "code",
   "execution_count": null,
   "metadata": {},
   "outputs": [],
   "source": [
    "# Given a list of numbers\n",
    "lst_2 = [2, 22, 33, 41, 6, 7, 39]\n",
    "\n",
    "# Printing a message indicating that we are going to print odd numbers\n",
    "print(\"Odd numbers in the following list are:\")\n",
    "\n",
    "# Iterate through each element in the list 'lst_2'\n",
    "for i in lst_2:\n",
    "    # Check if the current element 'i' is not even\n",
    "    if i % 2 != 0:\n",
    "        \n",
    "        print(i)\n"
   ]
  }
 ],
 "metadata": {
  "language_info": {
   "name": "python"
  }
 },
 "nbformat": 4,
 "nbformat_minor": 2
}
