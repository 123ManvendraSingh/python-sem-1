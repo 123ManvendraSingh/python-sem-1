{
 "cells": [
  {
   "cell_type": "markdown",
   "metadata": {},
   "source": [
    "Given a list of numbers, find out the maximum number.\n"
   ]
  },
  {
   "cell_type": "code",
   "execution_count": null,
   "metadata": {},
   "outputs": [],
   "source": [
    "#Define a list of numbers\n",
    "lst_2=[17, 10, 7, 29, 73, 3, 24, 52, 3]\n",
    "\n",
    "#Iterate through each element in the list\n",
    "for i in lst_2:\n",
    "    #Initialize a counter variable 'a' to 0 for each outer loop iteration\n",
    "    a=0\n",
    "    \n",
    "    for j in lst_2:\n",
    "        #Check if the element 'i' is greater than or equal to the element 'j'\n",
    "        if i>=j:\n",
    "            #Increment the counter variable 'a'\n",
    "            a+=1\n",
    "    \n",
    "    #Check if the counter 'a' is equal to the length of the list\n",
    "    #This implies that the current element 'i' is greater than or equal to all elements in the list\n",
    "    if a==len(lst_2):\n",
    "        #Print the maximum number in the list\n",
    "        print(\"Maximum number in list is:\",i)\n",
    "\n",
    "#OR WE CAN DIRECT USE THE FUNCTION max(lst_2).\n"
   ]
  }
 ],
 "metadata": {
  "kernelspec": {
   "display_name": "Python 3",
   "language": "python",
   "name": "python3"
  },
  "language_info": {
   "codemirror_mode": {
    "name": "ipython",
    "version": 3
   },
   "file_extension": ".py",
   "mimetype": "text/x-python",
   "name": "python",
   "nbconvert_exporter": "python",
   "pygments_lexer": "ipython3",
   "version": "3.11.6"
  }
 },
 "nbformat": 4,
 "nbformat_minor": 2
}
