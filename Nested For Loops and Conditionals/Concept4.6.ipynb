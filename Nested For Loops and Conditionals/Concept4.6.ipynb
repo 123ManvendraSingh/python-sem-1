{
 "cells": [
  {
   "cell_type": "markdown",
   "metadata": {},
   "source": [
    "Given a list of numbers, find out how many times each number occurs in the list.\n"
   ]
  },
  {
   "cell_type": "code",
   "execution_count": null,
   "metadata": {},
   "outputs": [],
   "source": [
    "lst_1=[1,2,4,4,6,4,1,2,4,6,0]               #Assuming a list of numbers.\n",
    "lst_2=[]                                    #Creating a empty list.\n",
    "for i in lst_1:                             #Iterating the lst_1.\n",
    "    if i not in lst_2:                      #Adding the elements to the empty list(lst_2) which are multipke times.\n",
    "        lst_2.append(i)\n",
    "for j in lst_2:                             #Iterating the lst_2.\n",
    "    a=0                                     #Assuming a current element 'a'.\n",
    "    for f in lst_1:                         #Iterating the lst_1.\n",
    "        if j==f:                            #If the elements get matched add 1 to a.\n",
    "            a+=1\n",
    "    print(j,\"occurs\",a,\"times in the list.\")\n",
    "\n"
   ]
  }
 ],
 "metadata": {
  "language_info": {
   "name": "python"
  }
 },
 "nbformat": 4,
 "nbformat_minor": 2
}
