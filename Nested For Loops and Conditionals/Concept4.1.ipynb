{
 "cells": [
  {
   "cell_type": "markdown",
   "metadata": {},
   "source": [
    "Given a list of positive integers, find the factorial of all the numbers."
   ]
  },
  {
   "cell_type": "code",
   "execution_count": null,
   "metadata": {},
   "outputs": [],
   "source": [
    "\n",
    "lst_1=[1, 55, 6, 7, 3, 12]                   #Given a list of integers\n",
    "\n",
    "\n",
    "for i in lst_1:                               #Iterate over each element in the list\n",
    "    a=1\n",
    "                                              #Putting a variable 'a' to store the value of factorial\n",
    "    \n",
    "    for j in range(2,i+1):                    #Calculating the factorial of i\n",
    "\n",
    "        a*=j\n",
    "    \n",
    "    print(\"Factorial of\", i, \"is:\", a)        #Print the factorial of i.\n",
    "\n"
   ]
  }
 ],
 "metadata": {
  "kernelspec": {
   "display_name": "Python 3",
   "language": "python",
   "name": "python3"
  },
  "language_info": {
   "codemirror_mode": {
    "name": "ipython",
    "version": 3
   },
   "file_extension": ".py",
   "mimetype": "text/x-python",
   "name": "python",
   "nbconvert_exporter": "python",
   "pygments_lexer": "ipython3",
   "version": "3.11.6"
  }
 },
 "nbformat": 4,
 "nbformat_minor": 2
}
