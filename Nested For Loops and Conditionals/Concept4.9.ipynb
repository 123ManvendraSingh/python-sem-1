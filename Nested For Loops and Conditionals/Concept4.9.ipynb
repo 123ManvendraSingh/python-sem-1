{
 "cells": [
  {
   "cell_type": "markdown",
   "metadata": {},
   "source": [
    "Given a string input, find out if it’s a palindrome.\n"
   ]
  },
  {
   "cell_type": "code",
   "execution_count": 12,
   "metadata": {},
   "outputs": [
    {
     "name": "stdout",
     "output_type": "stream",
     "text": [
      "Palindrone\n"
     ]
    }
   ],
   "source": [
    "str1=input(\"Enter the string to be checked:\")      #Taking User input of string.\n",
    "str2=str1[::-1]                                    #Reversing the given string and putting it into another variable.\n",
    "if str1.upper()==str2.upper():                     #Checking to be palindrone after capitalizing , as python is case-sensitive. \n",
    "    print(\"Input string is a Palindrone\")\n",
    "else:\n",
    "    print(\"Input string is not a palindrone\")"
   ]
  }
 ],
 "metadata": {
  "kernelspec": {
   "display_name": "Python 3",
   "language": "python",
   "name": "python3"
  },
  "language_info": {
   "codemirror_mode": {
    "name": "ipython",
    "version": 3
   },
   "file_extension": ".py",
   "mimetype": "text/x-python",
   "name": "python",
   "nbconvert_exporter": "python",
   "pygments_lexer": "ipython3",
   "version": "3.11.6"
  }
 },
 "nbformat": 4,
 "nbformat_minor": 2
}
