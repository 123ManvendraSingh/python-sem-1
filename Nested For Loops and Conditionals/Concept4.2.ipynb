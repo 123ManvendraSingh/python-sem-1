{
 "cells": [
  {
   "cell_type": "markdown",
   "metadata": {},
   "source": [
    "Given two numbers, find its Least Common Multiple (LCM).\n"
   ]
  },
  {
   "cell_type": "code",
   "execution_count": 3,
   "metadata": {},
   "outputs": [
    {
     "name": "stdout",
     "output_type": "stream",
     "text": [
      "30\n"
     ]
    }
   ],
   "source": [
    "a=10                            #Assuming the given two integers.\n",
    "b=15\n",
    "for i in range(max(a,b),a*b+1):#Iterating to the range from the max of a and b to multiplication of both because it will be the range of their least common multiple.\n",
    "    if i%a==0 and i%b==0:      #Using condition that the LCM is divisible by both.\n",
    "        print(i,\"is the lowest common Multiple.\")\n",
    "        break                  #Breaking the loop because we only want the least of the common multiples. \n",
    "\n"
   ]
  }
 ],
 "metadata": {
  "kernelspec": {
   "display_name": "Python 3",
   "language": "python",
   "name": "python3"
  },
  "language_info": {
   "codemirror_mode": {
    "name": "ipython",
    "version": 3
   },
   "file_extension": ".py",
   "mimetype": "text/x-python",
   "name": "python",
   "nbconvert_exporter": "python",
   "pygments_lexer": "ipython3",
   "version": "3.11.6"
  }
 },
 "nbformat": 4,
 "nbformat_minor": 2
}
