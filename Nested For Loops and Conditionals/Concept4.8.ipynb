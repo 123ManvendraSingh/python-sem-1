{
 "cells": [
  {
   "cell_type": "markdown",
   "metadata": {},
   "source": [
    "Given a string input, find out if it contains a particular substring.\n"
   ]
  },
  {
   "cell_type": "code",
   "execution_count": null,
   "metadata": {},
   "outputs": [],
   "source": [
    "str1=input(\"Enter the string: \")                      #Taking Use Input String.\n",
    "sub1=input(\"Enter the substring to be checked: \")     #Taking input of the substring to be checked.\n",
    "\n",
    "for i in range(len(str1)):                            #Iterating to the range - length of the string.\n",
    "    if str1[i:i+len(sub1)]==sub1:                     #\n",
    "        print(\"The substring is contained in the String\")\n",
    "        break\n"
   ]
  }
 ],
 "metadata": {
  "language_info": {
   "name": "python"
  }
 },
 "nbformat": 4,
 "nbformat_minor": 2
}
