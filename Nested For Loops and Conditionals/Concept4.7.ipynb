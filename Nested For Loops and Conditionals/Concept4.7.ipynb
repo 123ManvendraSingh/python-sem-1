{
 "cells": [
  {
   "cell_type": "markdown",
   "metadata": {},
   "source": [
    "Given a list of integers, find all pairs of integers in the list whose sum is zero.\n"
   ]
  },
  {
   "cell_type": "code",
   "execution_count": 6,
   "metadata": {},
   "outputs": [
    {
     "name": "stdout",
     "output_type": "stream",
     "text": [
      "[1, 2, 3, 4, 6, 5]\n",
      "1 -1\n",
      "2 -2\n",
      "3 -3\n"
     ]
    }
   ],
   "source": [
    "lst_num=[1,2,3,4,6,5,-1,-2,-3]              #Assuming a list of integers.\n",
    "lst_1=[]                                    #Creating a new empty list.\n",
    "for i in lst_num:                           #Iterating the the list.\n",
    "    if i and -i not in lst_1:               #checking same number with opposite sign in list          \n",
    "        lst_1.append(i)                   \n",
    "\n",
    "for j in lst_1:                             #iterating in new list\n",
    "    for k in range(len(lst_num)):           #using for loop in the range of length of old list\n",
    "        if j+lst_num[k]==0:                 #checking their sum is zero or not.\n",
    "            print(j,lst_num[k])"
   ]
  }
 ],
 "metadata": {
  "kernelspec": {
   "display_name": "Python 3",
   "language": "python",
   "name": "python3"
  },
  "language_info": {
   "codemirror_mode": {
    "name": "ipython",
    "version": 3
   },
   "file_extension": ".py",
   "mimetype": "text/x-python",
   "name": "python",
   "nbconvert_exporter": "python",
   "pygments_lexer": "ipython3",
   "version": "3.11.6"
  }
 },
 "nbformat": 4,
 "nbformat_minor": 2
}
