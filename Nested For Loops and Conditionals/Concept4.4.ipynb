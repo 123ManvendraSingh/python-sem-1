{
 "cells": [
  {
   "cell_type": "markdown",
   "metadata": {},
   "source": [
    "Given a positive integer, find out all prime numbers from 1 up to this number.\n"
   ]
  },
  {
   "cell_type": "code",
   "execution_count": null,
   "metadata": {},
   "outputs": [],
   "source": [
    "a = int(input(\"Enter the positive integer:\"))               #Taking User Input.\n",
    "\n",
    "\n",
    "print(\"All prime numbers from 1 up to\", a, \"are:\")         #Print prime numbers from 1 up to the entered integer\n",
    "\n",
    "\n",
    "for i in range(1, a + 1):                                  #Iterate over numbers from 1 to the entered integer\n",
    "\n",
    "    a = 0                                                  #Introducing a variable 'a'.\n",
    "\n",
    "    \n",
    "    b = int(i**0.5)                                        #Calculating the square root of the current number.\n",
    "\n",
    "    \n",
    "    for j in range(2, b + 1):                              #Check for factors in the range from 2 to the square root of the current number.\n",
    "\n",
    "        if i % j == 0:\n",
    "                                                           #If the current number has a factor.\n",
    "            a += 1\n",
    "    \n",
    "    if a == 0:                                             #If no factors were found the number is prime, so print it\n",
    "\n",
    "        print(i)\n",
    "    else:\n",
    "                                                          #If factors were found, continue to the next iteration\n",
    "        continue\n"
   ]
  }
 ],
 "metadata": {
  "kernelspec": {
   "display_name": "Python 3",
   "language": "python",
   "name": "python3"
  },
  "language_info": {
   "codemirror_mode": {
    "name": "ipython",
    "version": 3
   },
   "file_extension": ".py",
   "mimetype": "text/x-python",
   "name": "python",
   "nbconvert_exporter": "python",
   "pygments_lexer": "ipython3",
   "version": "3.11.6"
  }
 },
 "nbformat": 4,
 "nbformat_minor": 2
}
