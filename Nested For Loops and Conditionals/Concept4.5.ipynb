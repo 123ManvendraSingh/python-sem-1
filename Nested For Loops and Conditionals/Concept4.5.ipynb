{
 "cells": [
  {
   "cell_type": "markdown",
   "metadata": {},
   "source": [
    "Given a positive integers, find out the sum of all prime numbers from 1 up to this number.\n"
   ]
  },
  {
   "cell_type": "code",
   "execution_count": null,
   "metadata": {},
   "outputs": [],
   "source": [
    "a=int(input(\"Enter the positive integer:\"))               #Taking User Input.\n",
    "print(\"Sum of all prime numbers from 1 upto\",a,\"are:\")    #Printing the hints.\n",
    "c=0                                                       #Introducing a variable 'c'.\n",
    "for i in range(1,a+1):                                    #Iterating to the range from '1' to the input positive integer.\n",
    "    a=0                                                   #Introducing a current element 'a'.\n",
    "    b=int(i**0.5)                                         #Putting it's square root in another variable 'b'.\n",
    "    for j in range(2,b+1):                                #Iterating  to the range from '2' to the square root of the number.                               \n",
    "        if i%j==0:                                        #If it is completely divisible by another number add one to element 'a'.\n",
    "            a+=1\n",
    "    if a==0:                                              #If number of divisibles is zero then it is prime and then add it to the variable c.\n",
    "        c+=i\n",
    "    else:                                                 #If it had divisibles the we should continue to next number.\n",
    "        continue\n",
    "print(c)                                                 #Printing the Sum.\n",
    " \n"
   ]
  }
 ],
 "metadata": {
  "language_info": {
   "name": "python"
  }
 },
 "nbformat": 4,
 "nbformat_minor": 2
}
