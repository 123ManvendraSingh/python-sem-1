{
 "cells": [
  {
   "cell_type": "markdown",
   "metadata": {},
   "source": [
    "Given two numbers, find its Greatest Common Divisor (Divisor).\n"
   ]
  },
  {
   "cell_type": "code",
   "execution_count": 3,
   "metadata": {},
   "outputs": [
    {
     "name": "stdout",
     "output_type": "stream",
     "text": [
      "7 is the Highest Common Divisor.\n"
     ]
    }
   ],
   "source": [
    "num1=14                                     #Assuming the given two integers.\n",
    "\n",
    "num2=21\n",
    "for i in range(min(num1,num2),1,-1):        #Iterating to the range from the min of num1 and num2 to 1 because it will be the range of their Greatest Common Divisor.\n",
    "    if num1%i==0 and num2%i==0:             #Mathematical condition that num1 and num2 should be completely divisible by the variable i.\n",
    "        print(i,\"is the Highest Common Divisor.\")"
   ]
  }
 ],
 "metadata": {
  "kernelspec": {
   "display_name": "Python 3",
   "language": "python",
   "name": "python3"
  },
  "language_info": {
   "codemirror_mode": {
    "name": "ipython",
    "version": 3
   },
   "file_extension": ".py",
   "mimetype": "text/x-python",
   "name": "python",
   "nbconvert_exporter": "python",
   "pygments_lexer": "ipython3",
   "version": "3.11.6"
  }
 },
 "nbformat": 4,
 "nbformat_minor": 2
}
