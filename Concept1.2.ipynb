{
 "cells": [
  {
   "cell_type": "markdown",
   "metadata": {},
   "source": [
    "Given an integer, check if it is even or odd."
   ]
  },
  {
   "cell_type": "code",
   "execution_count": null,
   "metadata": {},
   "outputs": [],
   "source": [
    "a=int(input(\"Enter the integer to be checked:\")) #Taking the integer input.\n",
    "if a%2==0:                                       #If remainder is zero after dividing by it by 2, means number is even.\n",
    "    print(\"The given number is even\")\n",
    "else:                                            #Else the number is Odd.\n",
    "    print(\"The given number is odd\")"
   ]
  }
 ],
 "metadata": {
  "language_info": {
   "name": "python"
  }
 },
 "nbformat": 4,
 "nbformat_minor": 2
}
