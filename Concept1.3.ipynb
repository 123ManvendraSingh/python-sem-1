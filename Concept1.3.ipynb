{
 "cells": [
  {
   "cell_type": "markdown",
   "metadata": {},
   "source": [
    "Given a temperature in Celsius, convert it to Fahrenheit using the formula F = (C * 1.8) + 32. If the temperature is above 90°F, print “It’s hot outside!” otherwise, print “The temperature is pleasant”."
   ]
  },
  {
   "cell_type": "code",
   "execution_count": null,
   "metadata": {},
   "outputs": [],
   "source": [
    "T=float(input(\"Enter the temperature in Celcius:\"))         #Taking input as temperature in celcius.\n",
    "F=(T * 1.8) + 32                                            #Using Mathematical equation to convert into fahreinheit.\n",
    "if F>90:                                                    #Putting conditions as per the question\n",
    "    print(\"It's hot outside!\")\n",
    "else:\n",
    "    print(\"The temperature is pleasant.\")\n"
   ]
  }
 ],
 "metadata": {
  "language_info": {
   "name": "python"
  }
 },
 "nbformat": 4,
 "nbformat_minor": 2
}
