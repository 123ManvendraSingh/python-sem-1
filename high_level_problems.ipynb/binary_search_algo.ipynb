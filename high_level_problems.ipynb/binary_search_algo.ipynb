{
 "cells": [
  {
   "cell_type": "markdown",
   "metadata": {},
   "source": [
    "Given a sorted list of integers, search for a given integer using the binary search algorithm."
   ]
  },
  {
   "cell_type": "code",
   "execution_count": 2,
   "metadata": {},
   "outputs": [
    {
     "name": "stdout",
     "output_type": "stream",
     "text": [
      "element 10 is present at index 7\n"
     ]
    }
   ],
   "source": [
    "lst_1=[0,1,4,6,7,8,9,10]                                #Taking a sorted list of integers.\n",
    "num=10                                                  #Assigning number to check.\n",
    "p=0                                                     #Defining a variable 'a'.\n",
    "q=len(lst_1)-1                                          #Defining variable for searching from right\n",
    "numfound=0                                              #If target element is found.\n",
    "while p<=q:                                             #Using while loop to search targeted element.\n",
    "    c=(a+b)//2                                          #Calculating middle index\n",
    "    if lst_1[c]==num:                                   #Checking that the middle element and targated element are same or not.\n",
    "        numfound=1                         \n",
    "        break                                           #Breaking the loop.\n",
    "    elif lst_1[c]>num:                                  #Giving the condition that if the middle element is greater than the target then search in the left half.\n",
    "        q=c-1\n",
    "    else:                                               #Condition if the middle element is smaller than the target the search in the right half\n",
    "        p=c+1\n",
    "if numfound==1:                                               #If targeted element is found then printing it's index.\n",
    "    print(\"element\",num,\"is present at index\",c)\n",
    "else:\n",
    "    print(\"elememt\",num,\"is not present in the list\")"
   ]
  },
  {
   "cell_type": "code",
   "execution_count": null,
   "metadata": {},
   "outputs": [],
   "source": []
  }
 ],
 "metadata": {
  "kernelspec": {
   "display_name": "Python 3",
   "language": "python",
   "name": "python3"
  },
  "language_info": {
   "codemirror_mode": {
    "name": "ipython",
    "version": 3
   },
   "file_extension": ".py",
   "mimetype": "text/x-python",
   "name": "python",
   "nbconvert_exporter": "python",
   "pygments_lexer": "ipython3",
   "version": "3.11.6"
  }
 },
 "nbformat": 4,
 "nbformat_minor": 2
}
