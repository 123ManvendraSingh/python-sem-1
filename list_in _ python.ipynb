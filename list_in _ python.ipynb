{
  "cells": [
    {
      "cell_type": "markdown",
      "metadata": {
        "id": "DlOtkbEOnRxH"
      },
      "source": [
        "# Section 1 : List Basics"
      ]
    },
    {
      "cell_type": "code",
      "execution_count": 4,
      "metadata": {
        "id": "zM4HjHP8nXMx"
      },
      "outputs": [
        {
          "name": "stdout",
          "output_type": "stream",
          "text": [
            "<class 'list'>\n",
            "['5', '4', '8']\n"
          ]
        }
      ],
      "source": [
        "# Input several numbers from the user using the input function in one go (each number separated by a space)\n",
        "string = input(\"Enter elements (seprated by commas): \")\n",
        "list_of_inputs = string.split(\" \")\n",
        "\n",
        "print(type(list_of_inputs))\n",
        "\n",
        "print(list_of_inputs)"
      ]
    },
    {
      "cell_type": "markdown",
      "metadata": {},
      "source": [
        "DATA STRUCTURES\n",
        "-> LIST, SET ,TUPLE, DICTIONARY"
      ]
    },
    {
      "cell_type": "code",
      "execution_count": 5,
      "metadata": {},
      "outputs": [
        {
          "name": "stdout",
          "output_type": "stream",
          "text": [
            "5\n",
            "4\n",
            "8\n",
            "9\n",
            "5\n"
          ]
        }
      ],
      "source": [
        "for i in range(5):\n",
        "    a=input(\"enter the input\")\n",
        "    list=[a]\n",
        "    print(a)    "
      ]
    },
    {
      "cell_type": "code",
      "execution_count": 15,
      "metadata": {
        "id": "q-P_CJKn-XwM"
      },
      "outputs": [],
      "source": [
        "# Make a list of marks that you got in Physics, Chemistry and Maths in your +2 board exam\n",
        "# Write the marks manually without using the input function\n",
        "\n",
        "marks=[98,95,99]\n"
      ]
    },
    {
      "cell_type": "code",
      "execution_count": 8,
      "metadata": {
        "id": "8esVquAs9ds_"
      },
      "outputs": [
        {
          "name": "stdout",
          "output_type": "stream",
          "text": [
            "[98, 95, 99]\n"
          ]
        }
      ],
      "source": [
        "# Print the list\n",
        "\n",
        "print(marks)\n"
      ]
    },
    {
      "cell_type": "code",
      "execution_count": 37,
      "metadata": {
        "id": "-Z6VdJXC9dv3"
      },
      "outputs": [
        {
          "name": "stdout",
          "output_type": "stream",
          "text": [
            "3\n"
          ]
        }
      ],
      "source": [
        "# Find the length of the list\n",
        "\n",
        "print(len(marks))\n"
      ]
    },
    {
      "cell_type": "code",
      "execution_count": 16,
      "metadata": {
        "id": "RB_pThmn9dyN"
      },
      "outputs": [
        {
          "name": "stdout",
          "output_type": "stream",
          "text": [
            "98\n"
          ]
        }
      ],
      "source": [
        "# Print the first element of the list\n",
        "\n",
        "print(marks[0])"
      ]
    },
    {
      "cell_type": "code",
      "execution_count": 16,
      "metadata": {
        "id": "6hrgb0Sb9d02"
      },
      "outputs": [
        {
          "name": "stdout",
          "output_type": "stream",
          "text": [
            "99\n",
            "99\n"
          ]
        }
      ],
      "source": [
        "# Print the last element of the list\n",
        "\n",
        "print(marks[-1])\n",
        "a=len(marks)-1\n",
        "print(marks[a])\n"
      ]
    },
    {
      "cell_type": "code",
      "execution_count": 18,
      "metadata": {
        "id": "6AEMgv0Q9d38"
      },
      "outputs": [
        {
          "name": "stdout",
          "output_type": "stream",
          "text": [
            "95\n"
          ]
        }
      ],
      "source": [
        "#  Print the second element of the list\n",
        "\n",
        "print(marks[1])"
      ]
    },
    {
      "cell_type": "code",
      "execution_count": 17,
      "metadata": {
        "id": "U6zZL_YgloCv"
      },
      "outputs": [
        {
          "name": "stdout",
          "output_type": "stream",
          "text": [
            "[98, 100, 100]\n"
          ]
        }
      ],
      "source": [
        "# Change your marks for Chemistry and Maths in this list\n",
        "\n",
        "marks[1]=100\n",
        "marks[2]=100\n",
        "print(marks)"
      ]
    },
    {
      "cell_type": "markdown",
      "metadata": {
        "id": "ml2rzueuWTEF"
      },
      "source": [
        "# Section 2 : Simple List functions"
      ]
    },
    {
      "cell_type": "code",
      "execution_count": 18,
      "metadata": {
        "id": "U2ViC-J8niYo"
      },
      "outputs": [
        {
          "name": "stdout",
          "output_type": "stream",
          "text": [
            "[98, 100, 100, 97, 93]\n"
          ]
        }
      ],
      "source": [
        "# Append your marks for Hindi or English to this list\n",
        "hindi=93\n",
        "english=97\n",
        "marks.append(english)                  # adding an input in the list later\n",
        "marks.append(hindi)\n",
        "print(marks)\n",
        "\n"
      ]
    },
    {
      "cell_type": "code",
      "execution_count": 19,
      "metadata": {
        "id": "JvhmhUeo9d9a"
      },
      "outputs": [
        {
          "name": "stdout",
          "output_type": "stream",
          "text": [
            "[98, 95, 99, 97]\n"
          ]
        }
      ],
      "source": [
        "# Create a blank list and append your marks for P, C, M and Language in +2 one by one to this list using the append function\n",
        "# Once done, find the length of the list\n",
        "\n",
        "P=98\n",
        "C=95\n",
        "M=99\n",
        "L=97\n",
        "list2=[]\n",
        "list2.append(P)\n",
        "list2.append(C)\n",
        "list2.append(M)\n",
        "list2.append(L)\n",
        "print(list2)"
      ]
    },
    {
      "cell_type": "code",
      "execution_count": 20,
      "metadata": {},
      "outputs": [
        {
          "name": "stdout",
          "output_type": "stream",
          "text": [
            "[89, 85, 93, 90, 93]\n",
            "90.0\n"
          ]
        }
      ],
      "source": [
        "phy=89\n",
        "chem=85\n",
        "maths=93\n",
        "hin=90\n",
        "english=93\n",
        "listmarks=[]\n",
        "listmarks.append(phy)\n",
        "listmarks.append(chem)\n",
        "listmarks.append(maths)\n",
        "listmarks.append(hin)\n",
        "listmarks.append(english)\n",
        "print(listmarks)\n",
        "\n",
        "listsum=sum(listmarks)\n",
        "listlen=len(listmarks)\n",
        "percentagemarks=(listsum/500)*100\n",
        "print(percentagemarks)"
      ]
    },
    {
      "cell_type": "code",
      "execution_count": 21,
      "metadata": {},
      "outputs": [
        {
          "name": "stdout",
          "output_type": "stream",
          "text": [
            "['55']\n"
          ]
        }
      ],
      "source": [
        "# METHOD 2\n",
        "P2=input(\"enter marks in physics\")\n",
        "C2=input(\"enter marks in chemistry\")\n",
        "M2=input(\"enter marks in mathematics\")\n",
        "list3=[]\n",
        "list3.append(P2)\n",
        "print(list3) "
      ]
    },
    {
      "cell_type": "code",
      "execution_count": 22,
      "metadata": {
        "id": "GJgcw1sP9mtt"
      },
      "outputs": [
        {
          "name": "stdout",
          "output_type": "stream",
          "text": [
            "[99, 97, 100, 100]\n"
          ]
        }
      ],
      "source": [
        "# Create a new blank list and append your marks for Science, Math and Language in 10th class one by one to this list using the append function\n",
        "# Once done, find the length of the list\n",
        "\n",
        "Sci=99\n",
        "Eng=97\n",
        "Math=100\n",
        "IP=100\n",
        "list3=[]\n",
        "list3.append(Sci)\n",
        "list3.append(Eng)\n",
        "list3.append(Math)\n",
        "list3.append(IP)\n",
        "print(list3)\n"
      ]
    },
    {
      "cell_type": "code",
      "execution_count": 23,
      "metadata": {},
      "outputs": [
        {
          "name": "stdout",
          "output_type": "stream",
          "text": [
            "4\n"
          ]
        }
      ],
      "source": [
        "print(len(list3))"
      ]
    },
    {
      "cell_type": "code",
      "execution_count": 24,
      "metadata": {
        "id": "mC5ldExy9mwc"
      },
      "outputs": [
        {
          "name": "stdout",
          "output_type": "stream",
          "text": [
            "[98, 100, 100, 97, 93, 99, 97, 100, 100]\n"
          ]
        }
      ],
      "source": [
        "# Create a new blank list and add to it the marks for +2 and 10th class from the above lists using the extend function\n",
        "list4=[]\n",
        "list4.extend(marks)\n",
        "list4.extend(list3)                      # append permanently adds the data ( means again and again) whereas extend add it temporarily (means only once)\n",
        "print(list4)                              # thah's why we have to assign a variable \n"
      ]
    },
    {
      "cell_type": "code",
      "execution_count": 25,
      "metadata": {},
      "outputs": [
        {
          "name": "stdout",
          "output_type": "stream",
          "text": [
            "[[98, 100, 100, 97, 93]]\n",
            "1\n"
          ]
        }
      ],
      "source": [
        "listt=[]\n",
        "listt.append(marks)\n",
        "print(listt)\n",
        "print(len(listt))"
      ]
    },
    {
      "cell_type": "code",
      "execution_count": 26,
      "metadata": {},
      "outputs": [
        {
          "name": "stdout",
          "output_type": "stream",
          "text": [
            "[98, 100, 100, 97, 93, 99, 97, 100, 100]\n"
          ]
        }
      ],
      "source": [
        "list4=[]\n",
        "list4.extend(marks)\n",
        "list4.extend(list3)                      # append permanently adds the data ( means again and again) whereas extend add it temporarily (means only once)\n",
        "print(list4)                              # thah's why we have to assign a variable \n"
      ]
    },
    {
      "cell_type": "code",
      "execution_count": 27,
      "metadata": {
        "id": "C-0IUVOn9mzD"
      },
      "outputs": [
        {
          "name": "stdout",
          "output_type": "stream",
          "text": [
            "[98, 100, 100, 97, 93, 99, 97, 100, 100]\n",
            "[100, 100, 97, 99, 93, 97, 100, 100, 98]\n"
          ]
        }
      ],
      "source": [
        "# Reverse the above list using the list_name.reverse() function\n",
        "print(list4)\n",
        "list4.reverse()               # make changes in original list\n",
        "print(list4)"
      ]
    },
    {
      "cell_type": "code",
      "execution_count": 28,
      "metadata": {
        "id": "kCkQJSmu9m2L"
      },
      "outputs": [
        {
          "name": "stdout",
          "output_type": "stream",
          "text": [
            "[100, 100, 97, 99, 93, 97, 100, 100, 98]\n"
          ]
        }
      ],
      "source": [
        "# Reverse the above (reversed) list using list(reversed(list_name)) function. So you should get back the original lis\n",
        "list(reversed(list4))         # giving error\n",
        "print(list4)"
      ]
    },
    {
      "cell_type": "code",
      "execution_count": 34,
      "metadata": {},
      "outputs": [
        {
          "name": "stdout",
          "output_type": "stream",
          "text": [
            "[98, 100, 100, 97, 93]\n",
            "[93, 97, 100, 100, 98]\n"
          ]
        }
      ],
      "source": [
        "#method 2\n",
        "print(marks[::])\n",
        "print(marks[-1::-1])"
      ]
    },
    {
      "cell_type": "code",
      "execution_count": 115,
      "metadata": {},
      "outputs": [
        {
          "data": {
            "text/plain": [
              "list"
            ]
          },
          "execution_count": 115,
          "metadata": {},
          "output_type": "execute_result"
        }
      ],
      "source": [
        "type(marks)"
      ]
    },
    {
      "cell_type": "code",
      "execution_count": 132,
      "metadata": {
        "id": "-Z1oBJOQ9m4i"
      },
      "outputs": [
        {
          "name": "stdout",
          "output_type": "stream",
          "text": [
            "[98, 95, 99, 97]\n"
          ]
        }
      ],
      "source": [
        "# Remove the Maths marks from all the three lists using list_name.remove(element) function\n",
        "\n",
        "if M in list2:                          # here M was variable assigned to marks in maths for list2\n",
        "    print(list2)\n",
        "else:\n",
        "    print(\"marks of maths are not present in list2\")"
      ]
    },
    {
      "cell_type": "code",
      "execution_count": null,
      "metadata": {
        "id": "Di1e-WdM9m7s"
      },
      "outputs": [],
      "source": [
        "# Before trying to remove an element, better to check if its even there in the list or not\n",
        "\n",
        "# already done above\n"
      ]
    },
    {
      "cell_type": "markdown",
      "metadata": {
        "id": "WChMBslwWCdt"
      },
      "source": [
        "# Section 3 : List Slicing"
      ]
    },
    {
      "cell_type": "code",
      "execution_count": 9,
      "metadata": {
        "id": "JLHlUnj79m-f"
      },
      "outputs": [
        {
          "name": "stdout",
          "output_type": "stream",
          "text": [
            "4\n"
          ]
        }
      ],
      "source": [
        "# From the list of all marks, print all the items from second marks onwards\n",
        "yash=[1,4,4,5,6,9,7,4,2,3,9]\n",
        "print(yash[1])"
      ]
    },
    {
      "cell_type": "code",
      "execution_count": 10,
      "metadata": {
        "id": "0PA8e0wx9nBY"
      },
      "outputs": [
        {
          "name": "stdout",
          "output_type": "stream",
          "text": [
            "[4, 4, 5]\n",
            "[4, 4, 5]\n"
          ]
        }
      ],
      "source": [
        "# From the list of all marks, print all the items from second marks up to the fourth marks\n",
        "\n",
        "print(yash[1:4:])\n",
        "print(yash[1:4:])"
      ]
    },
    {
      "cell_type": "code",
      "execution_count": 148,
      "metadata": {
        "id": "9PnboOAE9nEP"
      },
      "outputs": [
        {
          "name": "stdout",
          "output_type": "stream",
          "text": [
            "[98, 100, 100, 97, 99, 97, 100, 100]\n",
            "[100, 100, 97, 99, 97, 100]\n",
            "[100, 100, 97, 99, 97, 100]\n"
          ]
        }
      ],
      "source": [
        "# From the list of all marks, print all the items from second marks up to the penultimate( 1 before last or ultimate) marks\n",
        "print(list4)\n",
        "print(list4[1:7:])\n",
        "print(list4[1:len(list4)-1])"
      ]
    },
    {
      "cell_type": "code",
      "execution_count": 139,
      "metadata": {
        "id": "puwG2_LaYnkb"
      },
      "outputs": [
        {
          "name": "stdout",
          "output_type": "stream",
          "text": [
            "[98, 100, 100, 97, 99, 97, 100, 100]\n",
            "[98, 100, 99, 100]\n"
          ]
        }
      ],
      "source": [
        "# Print every element at the odd position in the list\n",
        "print(list4)\n",
        "print(list4[::2])\n"
      ]
    },
    {
      "cell_type": "code",
      "execution_count": 140,
      "metadata": {
        "id": "G7PTQphbYsiM"
      },
      "outputs": [
        {
          "name": "stdout",
          "output_type": "stream",
          "text": [
            "[100, 97, 97, 100]\n"
          ]
        }
      ],
      "source": [
        "# Print every element at the even position in the list\n",
        "print(list4[1::2])"
      ]
    },
    {
      "cell_type": "markdown",
      "metadata": {
        "id": "6kBuGXElV-OI"
      },
      "source": [
        "# Section 4 : Simple List computations"
      ]
    },
    {
      "cell_type": "code",
      "execution_count": 168,
      "metadata": {
        "id": "A9lWq__V9nHH"
      },
      "outputs": [
        {
          "name": "stdout",
          "output_type": "stream",
          "text": [
            "791\n",
            "198\n"
          ]
        }
      ],
      "source": [
        "# Find the sum of all the marks in your list using the sum(list_name) function\n",
        "print(sum(list4))\n",
        "print(sum(list4[0:2]))\n"
      ]
    },
    {
      "cell_type": "code",
      "execution_count": 144,
      "metadata": {
        "id": "eo2ChNLu9nLQ"
      },
      "outputs": [
        {
          "name": "stdout",
          "output_type": "stream",
          "text": [
            "100\n"
          ]
        }
      ],
      "source": [
        "# Find the maximum of all the marks in your list using the max(list_name) function\n",
        "\n",
        "print(max(list4))"
      ]
    },
    {
      "cell_type": "code",
      "execution_count": 149,
      "metadata": {
        "id": "63kzedXlDO-g"
      },
      "outputs": [
        {
          "name": "stdout",
          "output_type": "stream",
          "text": [
            "97\n"
          ]
        }
      ],
      "source": [
        "# Find the minimum of all the marks in your list using the min(list_name) function\n",
        "\n",
        "print(min(list4))"
      ]
    },
    {
      "cell_type": "markdown",
      "metadata": {},
      "source": [
        "Find avg"
      ]
    },
    {
      "cell_type": "code",
      "execution_count": 169,
      "metadata": {},
      "outputs": [
        {
          "name": "stdout",
          "output_type": "stream",
          "text": [
            "98.875\n"
          ]
        }
      ],
      "source": [
        "head=sum(list4)\n",
        "base=len(list4)\n",
        "avg=head/base\n",
        "print(avg)"
      ]
    },
    {
      "cell_type": "markdown",
      "metadata": {
        "id": "2NhjngNAV3II"
      },
      "source": [
        "# Section 5 : Create a List using the range() function"
      ]
    },
    {
      "cell_type": "code",
      "execution_count": 11,
      "metadata": {},
      "outputs": [
        {
          "name": "stdout",
          "output_type": "stream",
          "text": [
            "12\n",
            "15\n",
            "18\n",
            "21\n"
          ]
        }
      ],
      "source": [
        "for i in range(12,23,3):\n",
        "    print(i)"
      ]
    },
    {
      "cell_type": "code",
      "execution_count": 3,
      "metadata": {},
      "outputs": [
        {
          "data": {
            "text/plain": [
              "[0, 1, 2, 3, 4, 5, 6, 7, 8, 9]"
            ]
          },
          "execution_count": 3,
          "metadata": {},
          "output_type": "execute_result"
        }
      ],
      "source": [
        "list(range(10))"
      ]
    },
    {
      "cell_type": "code",
      "execution_count": 14,
      "metadata": {
        "id": "3ZGvch8YDPH-"
      },
      "outputs": [
        {
          "data": {
            "text/plain": [
              "[0, 1, 2, 3, 4, 5, 6, 7, 8, 9]"
            ]
          },
          "execution_count": 14,
          "metadata": {},
          "output_type": "execute_result"
        }
      ],
      "source": [
        "# Create a list of integers using the list(range(n)) function, where n can be any integer within the limits of your computer\n",
        "list(range(10))\n",
        "\n"
      ]
    },
    {
      "cell_type": "code",
      "execution_count": 158,
      "metadata": {},
      "outputs": [
        {
          "name": "stdout",
          "output_type": "stream",
          "text": [
            "0\n",
            "1\n",
            "2\n",
            "3\n",
            "4\n",
            "5\n",
            "6\n",
            "7\n",
            "8\n",
            "9\n",
            "10\n",
            "11\n",
            "12\n",
            "13\n",
            "14\n"
          ]
        }
      ],
      "source": [
        "for j in range(15):\n",
        "    print(j)"
      ]
    },
    {
      "cell_type": "code",
      "execution_count": 2,
      "metadata": {
        "id": "GxMM3HiODPLD"
      },
      "outputs": [
        {
          "name": "stdout",
          "output_type": "stream",
          "text": [
            "[12, 13, 14, 15, 16, 17, 18, 19, 20, 21, 22, 23, 24, 25, 26, 27, 28, 29, 30, 31, 32, 33]\n"
          ]
        }
      ],
      "source": [
        "# What does this function give : list(range(n1, n2))\n",
        "\n",
        "print(list(range(12,34)))"
      ]
    },
    {
      "cell_type": "code",
      "execution_count": 1,
      "metadata": {
        "id": "JI1lemr2DPNp"
      },
      "outputs": [
        {
          "name": "stdout",
          "output_type": "stream",
          "text": [
            "[2, 4, 6, 8, 10, 12, 14, 16]\n"
          ]
        }
      ],
      "source": [
        "# What does this function give : list(range(n1, n2, n3))\n",
        "print(list(range(2,17,2)))"
      ]
    },
    {
      "cell_type": "code",
      "execution_count": 16,
      "metadata": {
        "id": "FXBXCz5XJgWT"
      },
      "outputs": [
        {
          "name": "stdout",
          "output_type": "stream",
          "text": [
            "5050\n"
          ]
        }
      ],
      "source": [
        "# Create a list of first 100 integers, and find their sum\n",
        "a=list(range(0,101))\n",
        "print(sum(a))"
      ]
    },
    {
      "cell_type": "code",
      "execution_count": 19,
      "metadata": {
        "id": "WdTp1cR9JgZb"
      },
      "outputs": [
        {
          "name": "stdout",
          "output_type": "stream",
          "text": [
            "100\n",
            "50.5\n"
          ]
        }
      ],
      "source": [
        "# Create a list of first 100 integers, and find their average\n",
        "a=list(range(1,101))\n",
        "avg=sum(a)/len(a)\n",
        "print(len(a))\n",
        "print(avg)"
      ]
    },
    {
      "cell_type": "code",
      "execution_count": 24,
      "metadata": {
        "id": "6G3ZpXIYJgcT"
      },
      "outputs": [
        {
          "name": "stdout",
          "output_type": "stream",
          "text": [
            "[2, 4, 6, 8, 10, 12, 14, 16, 18, 20, 22, 24, 26, 28, 30, 32, 34, 36, 38, 40, 42, 44, 46, 48, 50, 52, 54, 56, 58, 60, 62, 64, 66, 68, 70, 72, 74, 76, 78, 80, 82, 84, 86, 88, 90, 92, 94, 96, 98, 100]\n",
            "2550\n",
            "51.0\n"
          ]
        }
      ],
      "source": [
        "# Create a list of even numbers in the range 1-100, and find their sum as well as average\n",
        "b=list(range(2,101,2))\n",
        "print(b)\n",
        "print(sum(b))\n",
        "avg2=sum(b)/len(b)\n",
        "print(avg2)\n",
        "\n"
      ]
    },
    {
      "cell_type": "code",
      "execution_count": null,
      "metadata": {
        "id": "XachAnw3Jgfb"
      },
      "outputs": [],
      "source": [
        "# Create a list of odd numbers in the range 1-100, and find their sum as well as average\n",
        "\n",
        "# canbe done easily like previous one"
      ]
    },
    {
      "cell_type": "code",
      "execution_count": 19,
      "metadata": {
        "id": "HVY2L4L4Jgij"
      },
      "outputs": [
        {
          "name": "stdout",
          "output_type": "stream",
          "text": [
            "[20, 6, 9, 11]\n",
            "[20, 6, 9, 11]\n",
            "[44, 6, 9, 11]\n"
          ]
        }
      ],
      "source": [
        "# Make a copy of your list and change the first element of this new list. See what happens to the original list\n",
        "\n",
        "lista=[3,6,9,11]\n",
        "listb=lista                       # this just assign lista a new name \n",
        "listb[0]=20\n",
        "print(lista)\n",
        "print(listb)\n",
        "listc=lista.copy()                         # this creates a new list\n",
        "listc[0]=44\n",
        "print(listc)\n"
      ]
    },
    {
      "cell_type": "markdown",
      "metadata": {
        "id": "vwK1cyynVWpR"
      },
      "source": [
        "# Section 6 : DIY Exercises"
      ]
    },
    {
      "cell_type": "code",
      "execution_count": 25,
      "metadata": {
        "id": "4elIBjlJVZKO"
      },
      "outputs": [
        {
          "name": "stdout",
          "output_type": "stream",
          "text": [
            "[65, 2, 12, 32]\n"
          ]
        }
      ],
      "source": [
        "# In a given list of numbers, swap the first and last element\n",
        "\n",
        "l1=[32,2,12,65]\n",
        "x=l1[0]\n",
        "y=l1[-1]\n",
        "l1[0]=y\n",
        "l1[-1]=x\n",
        "print(l1)"
      ]
    },
    {
      "cell_type": "markdown",
      "metadata": {},
      "source": [
        "FIND mistakes in following syntax"
      ]
    },
    {
      "cell_type": "code",
      "execution_count": 30,
      "metadata": {},
      "outputs": [
        {
          "name": "stdout",
          "output_type": "stream",
          "text": [
            "[32, 12, 2, 65]\n"
          ]
        }
      ],
      "source": [
        "# method 2\n",
        "l1.reverse()\n",
        "l1[1:len(l1)-1].reverse()\n",
        "print(l1)"
      ]
    },
    {
      "cell_type": "code",
      "execution_count": 37,
      "metadata": {
        "id": "fdOsCMtPVZNT"
      },
      "outputs": [
        {
          "name": "stdout",
          "output_type": "stream",
          "text": [
            "[32, 65, 12, 2]\n"
          ]
        }
      ],
      "source": [
        "# In a given list of numbers, swap the second and fourth element\n",
        "l2=[32,2,12,65]\n",
        "x=l2[1]\n",
        "y=l1[3]\n",
        "l2[1]=y\n",
        "l2[3]=x\n",
        "print(l2)"
      ]
    },
    {
      "cell_type": "code",
      "execution_count": 40,
      "metadata": {
        "id": "gNK-tRxdVZQc"
      },
      "outputs": [
        {
          "name": "stdout",
          "output_type": "stream",
          "text": [
            "[12, 23]\n"
          ]
        }
      ],
      "source": [
        "# Take a list of two numbers and arrange them in ascending order\n",
        "l3=[23,12]\n",
        "a=l3[0]\n",
        "b=l3[1]\n",
        "if l3[0]>l3[1]:\n",
        "    l3[0]=b\n",
        "    l3[1]=a\n",
        "    print(l3)\n",
        "else:\n",
        "    print(l3)    \n",
        "    \n"
      ]
    },
    {
      "cell_type": "code",
      "execution_count": 44,
      "metadata": {},
      "outputs": [
        {
          "name": "stdout",
          "output_type": "stream",
          "text": [
            "[12, 23]\n"
          ]
        }
      ],
      "source": [
        "# method 2\n",
        "l3.sort()                                #  function for ascending\n",
        "print(l3)\n"
      ]
    },
    {
      "cell_type": "markdown",
      "metadata": {},
      "source": [
        "function for descending"
      ]
    },
    {
      "cell_type": "code",
      "execution_count": null,
      "metadata": {},
      "outputs": [],
      "source": []
    },
    {
      "cell_type": "code",
      "execution_count": 23,
      "metadata": {
        "id": "Vaps55ZVXACM"
      },
      "outputs": [
        {
          "name": "stdout",
          "output_type": "stream",
          "text": [
            "[75, 68, 83, 92, 82, 77, 67, 91]\n"
          ]
        }
      ],
      "source": [
        "# Create two lists : one having your 10th class board marks and another having your +2 board marks for each subject.\n",
        "# Create another list that contains both these lists. So this new list will have 2 elements, both of which are lists.\n",
        "list10=[75,68,83,92]\n",
        "list12=[82,77,67,91]\n",
        "listnew=[]\n",
        "listnew.extend(list10)\n",
        "listnew.extend(list12)\n",
        "print(listnew)\n"
      ]
    },
    {
      "cell_type": "code",
      "execution_count": 22,
      "metadata": {
        "id": "STUZssuWYbKM"
      },
      "outputs": [
        {
          "name": "stdout",
          "output_type": "stream",
          "text": [
            "[75, 68, 83, 92] [82, 77, 67, 91]\n"
          ]
        }
      ],
      "source": [
        "# In the above list of lists, print the marks in the 2nd element of the first list\n",
        "print(listnew[0],listnew[1])"
      ]
    },
    {
      "cell_type": "code",
      "execution_count": null,
      "metadata": {
        "id": "KIGZ86CUDPQP"
      },
      "outputs": [],
      "source": [
        "# Reference for further learning : https://www.geeksforgeeks.org/python-lists/"
      ]
    },
    {
      "cell_type": "markdown",
      "metadata": {},
      "source": [
        "# Using loops : for and while"
      ]
    },
    {
      "cell_type": "markdown",
      "metadata": {},
      "source": [
        "1. print first 10 integers"
      ]
    },
    {
      "cell_type": "code",
      "execution_count": 24,
      "metadata": {},
      "outputs": [
        {
          "name": "stdout",
          "output_type": "stream",
          "text": [
            "1\n",
            "2\n",
            "3\n",
            "4\n",
            "5\n",
            "6\n",
            "7\n",
            "8\n",
            "9\n",
            "$$$$$\n",
            "1\n",
            "2\n",
            "3\n",
            "4\n",
            "5\n",
            "6\n",
            "7\n",
            "8\n",
            "9\n",
            "10\n"
          ]
        }
      ],
      "source": [
        "for i in range(1,10):\n",
        "    print(i)\n",
        "print(\"$$$$$\")\n",
        "for j in range(10):\n",
        "    print(j+1)"
      ]
    },
    {
      "cell_type": "markdown",
      "metadata": {},
      "source": [
        "2. print 1st 10 even integers using range(10)\n",
        "3. print 1st 10 odd integers using range(10)"
      ]
    },
    {
      "cell_type": "code",
      "execution_count": 60,
      "metadata": {},
      "outputs": [
        {
          "name": "stdout",
          "output_type": "stream",
          "text": [
            "2\n",
            "4\n",
            "6\n",
            "8\n",
            "10\n",
            "12\n",
            "14\n",
            "16\n",
            "18\n",
            "20\n",
            "1\n",
            "3\n",
            "5\n",
            "7\n",
            "9\n",
            "11\n",
            "13\n",
            "15\n",
            "17\n",
            "19\n"
          ]
        }
      ],
      "source": [
        "for x in range(10):\n",
        "    print(2*x+2)\n",
        "for y in range(10):\n",
        "    print(2*y+1)"
      ]
    },
    {
      "cell_type": "markdown",
      "metadata": {},
      "source": [
        "4. print 1st 10 positive powers of 2"
      ]
    },
    {
      "cell_type": "code",
      "execution_count": 26,
      "metadata": {},
      "outputs": [
        {
          "name": "stdout",
          "output_type": "stream",
          "text": [
            "2\n",
            "4\n",
            "8\n",
            "16\n",
            "32\n",
            "64\n",
            "128\n",
            "256\n",
            "512\n",
            "1024\n"
          ]
        }
      ],
      "source": [
        "for a in range(1,11):\n",
        "    print(2**(a))"
      ]
    },
    {
      "cell_type": "markdown",
      "metadata": {},
      "source": [
        "calculating the length of the list using for loop"
      ]
    },
    {
      "cell_type": "code",
      "execution_count": 27,
      "metadata": {},
      "outputs": [
        {
          "name": "stdout",
          "output_type": "stream",
          "text": [
            "1\n",
            "2\n",
            "3\n",
            "4\n",
            "5\n",
            "$$$$\n",
            "5\n"
          ]
        }
      ],
      "source": [
        "list1=[3,5,8,11,13]\n",
        "len=0\n",
        "for l in list1:\n",
        "    len=len+1\n",
        "    print(len)\n",
        "print(\"$$$$\")\n",
        "print(len)"
      ]
    },
    {
      "cell_type": "code",
      "execution_count": 75,
      "metadata": {},
      "outputs": [
        {
          "name": "stdout",
          "output_type": "stream",
          "text": [
            "3\n",
            "8\n",
            "16\n",
            "27\n",
            "40\n",
            "$$$$\n",
            "40\n"
          ]
        }
      ],
      "source": [
        "listsum=[3,5,8,11,13]\n",
        "sum=0\n",
        "for l in listsum:\n",
        "    sum=sum+l\n",
        "    print(sum)\n",
        "print(\"$$$$\")\n",
        "print(sum)"
      ]
    },
    {
      "cell_type": "markdown",
      "metadata": {},
      "source": [
        "Find sum & product of first 100 poasitive integers\n"
      ]
    },
    {
      "cell_type": "code",
      "execution_count": 31,
      "metadata": {},
      "outputs": [
        {
          "name": "stdout",
          "output_type": "stream",
          "text": [
            "5050\n",
            "93326215443944152681699238856266700490715968264381621468592963895217599993229915608941463976156518286253697920827223758251185210916864000000000000000000000000\n"
          ]
        }
      ],
      "source": [
        "sum100=0\n",
        "pro100=1\n",
        "for i in range(1,101):\n",
        "    sum100=sum100+i\n",
        "    pro100=pro100*i\n",
        "print(sum100)\n",
        "print(pro100)\n"
      ]
    },
    {
      "cell_type": "markdown",
      "metadata": {},
      "source": [
        "take an integer from user , checkif it is between 1-40, if yes out is its factorial\n",
        ",\n",
        "if no , say the number is out of range"
      ]
    },
    {
      "cell_type": "code",
      "execution_count": 35,
      "metadata": {},
      "outputs": [
        {
          "name": "stdout",
          "output_type": "stream",
          "text": [
            "given number is 42\n",
            "given number does not lie in the desired range\n"
          ]
        }
      ],
      "source": [
        "p=int(input(\"enter a number\"))\n",
        "print(\"given number is\",p)\n",
        "pro1=1\n",
        "if p>1 and p<40:\n",
        "    for q in range(1,p+1):\n",
        "        pro1=pro1*(q)\n",
        "    print(pro1)  \n",
        "else:\n",
        "    print(\"given number does not lie in the desired range\")      \n"
      ]
    },
    {
      "cell_type": "code",
      "execution_count": null,
      "metadata": {},
      "outputs": [],
      "source": []
    }
  ],
  "metadata": {
    "colab": {
      "collapsed_sections": [
        "DlOtkbEOnRxH",
        "ml2rzueuWTEF",
        "WChMBslwWCdt",
        "6kBuGXElV-OI",
        "2NhjngNAV3II",
        "vwK1cyynVWpR"
      ],
      "provenance": []
    },
    "kernelspec": {
      "display_name": "Python 3",
      "name": "python3"
    },
    "language_info": {
      "codemirror_mode": {
        "name": "ipython",
        "version": 3
      },
      "file_extension": ".py",
      "mimetype": "text/x-python",
      "name": "python",
      "nbconvert_exporter": "python",
      "pygments_lexer": "ipython3",
      "version": "3.11.5"
    }
  },
  "nbformat": 4,
  "nbformat_minor": 0
}
