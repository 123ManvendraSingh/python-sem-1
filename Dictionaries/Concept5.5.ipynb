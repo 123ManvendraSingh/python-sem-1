{
 "cells": [
  {
   "cell_type": "markdown",
   "metadata": {},
   "source": [
    "Remove a key from a dictionary:\n",
    "dict_name.pop(key_name)\n",
    "What does this function return?\n",
    "Use pop to rename a key."
   ]
  },
  {
   "cell_type": "code",
   "execution_count": 6,
   "metadata": {},
   "outputs": [
    {
     "ename": "KeyError",
     "evalue": "'Raj'",
     "output_type": "error",
     "traceback": [
      "\u001b[1;31m---------------------------------------------------------------------------\u001b[0m",
      "\u001b[1;31mKeyError\u001b[0m                                  Traceback (most recent call last)",
      "\u001b[1;32mc:\\Users\\mschu\\OneDrive\\Desktop\\code\\Dictionaries\\Concept5.5.ipynb Cell 2\u001b[0m line \u001b[0;36m2\n\u001b[0;32m      <a href='vscode-notebook-cell:/c%3A/Users/mschu/OneDrive/Desktop/code/Dictionaries/Concept5.5.ipynb#W0sZmlsZQ%3D%3D?line=0'>1</a>\u001b[0m dict_name\u001b[39m=\u001b[39m{\u001b[39m\"\u001b[39m\u001b[39mYash\u001b[39m\u001b[39m\"\u001b[39m:\u001b[39m\"\u001b[39m\u001b[39mRaj\u001b[39m\u001b[39m\"\u001b[39m,\u001b[39m\"\u001b[39m\u001b[39mSuresh\u001b[39m\u001b[39m\"\u001b[39m:\u001b[39m18\u001b[39m,\u001b[39m\"\u001b[39m\u001b[39mHarsh\u001b[39m\u001b[39m\"\u001b[39m:\u001b[39m17\u001b[39m}\n\u001b[1;32m----> <a href='vscode-notebook-cell:/c%3A/Users/mschu/OneDrive/Desktop/code/Dictionaries/Concept5.5.ipynb#W0sZmlsZQ%3D%3D?line=1'>2</a>\u001b[0m dict_name[\u001b[39m\"\u001b[39m\u001b[39mSingh\u001b[39m\u001b[39m\"\u001b[39m]\u001b[39m=\u001b[39mdict_name\u001b[39m.\u001b[39;49mpop(\u001b[39m\"\u001b[39;49m\u001b[39mRaj\u001b[39;49m\u001b[39m\"\u001b[39;49m)\n",
      "\u001b[1;31mKeyError\u001b[0m: 'Raj'"
     ]
    }
   ],
   "source": [
    "dict_name={\"Yash\":\"Raj\",\"Suresh\":18,\"Harsh\":17}\n",
    "dict_name[\"Singh\"]=dict_name.pop(\"Raj\")"
   ]
  },
  {
   "cell_type": "code",
   "execution_count": null,
   "metadata": {},
   "outputs": [],
   "source": []
  },
  {
   "cell_type": "code",
   "execution_count": 8,
   "metadata": {},
   "outputs": [
    {
     "name": "stdout",
     "output_type": "stream",
     "text": [
      "{'new_key': 'value'}\n"
     ]
    }
   ],
   "source": [
    "my_dict = {'old_key': 'value'}\n",
    "value = my_dict.pop('old_key')\n",
    "my_dict['new_key'] = value\n",
    "print(my_dict)"
   ]
  }
 ],
 "metadata": {
  "kernelspec": {
   "display_name": "Python 3",
   "language": "python",
   "name": "python3"
  },
  "language_info": {
   "codemirror_mode": {
    "name": "ipython",
    "version": 3
   },
   "file_extension": ".py",
   "mimetype": "text/x-python",
   "name": "python",
   "nbconvert_exporter": "python",
   "pygments_lexer": "ipython3",
   "version": "3.11.6"
  }
 },
 "nbformat": 4,
 "nbformat_minor": 2
}
