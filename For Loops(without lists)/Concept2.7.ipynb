{
 "cells": [
  {
   "cell_type": "markdown",
   "metadata": {},
   "source": [
    "Given a positive integer, find the multiplication table of that integer up to 10."
   ]
  },
  {
   "cell_type": "code",
   "execution_count": null,
   "metadata": {},
   "outputs": [],
   "source": [
    "num_1=int(input(\"Enter the positive integer:\"))       #Taking User input.\n",
    "for i in range(1,11):                                 #Using Range till 10 , so we can get table upto 10X.\n",
    "    print(num_1,\"X\",i,\"=\",num_1*i)"
   ]
  }
 ],
 "metadata": {
  "language_info": {
   "name": "python"
  }
 },
 "nbformat": 4,
 "nbformat_minor": 2
}
