{
 "cells": [
  {
   "cell_type": "markdown",
   "metadata": {},
   "source": [
    "Given a positive integer, find all its divisors.\n"
   ]
  },
  {
   "cell_type": "code",
   "execution_count": null,
   "metadata": {},
   "outputs": [],
   "source": [
    "num_1=int(input(\"Enter the positive integer:\"))               #Taking User Input.\n",
    "print(\"The list of all divisors is followed:\")\n",
    "for i in range(1,int(num_1/2)+1):                             #Taking limited range upto num_1/2 beacuse after that there will be no divisors.\n",
    "    if num_1%i==0:                                            #Checking that the remainder is zero which means it is a divisor.\n",
    "        print(i)"
   ]
  }
 ],
 "metadata": {
  "language_info": {
   "name": "python"
  }
 },
 "nbformat": 4,
 "nbformat_minor": 2
}
