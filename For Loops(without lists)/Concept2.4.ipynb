{
 "cells": [
  {
   "cell_type": "markdown",
   "metadata": {},
   "source": [
    "Given a positive integer, find out if it’s prime or not."
   ]
  },
  {
   "cell_type": "code",
   "execution_count": null,
   "metadata": {},
   "outputs": [],
   "source": [
    "num_1=int(input(\"Enter number:\"))               #Taking the input.\n",
    "a=int(num_1**0.5)                               #Took the square root of num_1 in integer form to lower the calculations.\n",
    "b=0                         \n",
    "for i in range(2,a+1):                          #Taking range only till variable a from 2.\n",
    "    if num_1%a==0:                              #Checking the divisibility and counting the divisibles.\n",
    "        b+=1\n",
    "if b==0:                                        #to be prime the no. of divisibles should be zero excluding self and 1.                                \n",
    "    print(\"Number is Prime\")\n",
    "else:\n",
    "    print(\"Number is not Prime\") \n"
   ]
  }
 ],
 "metadata": {
  "language_info": {
   "name": "python"
  }
 },
 "nbformat": 4,
 "nbformat_minor": 2
}
