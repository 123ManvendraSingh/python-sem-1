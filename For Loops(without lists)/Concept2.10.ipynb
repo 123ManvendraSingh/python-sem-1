{
 "cells": [
  {
   "cell_type": "markdown",
   "metadata": {},
   "source": [
    "Given a positive integer, convert it into binary, and vice-versa.\n"
   ]
  },
  {
   "cell_type": "code",
   "execution_count": null,
   "metadata": {},
   "outputs": [],
   "source": [
    "#CONVERTING DECIMAL TO BINARY\n",
    "a=int(input(\"Enter:\"))                         #Taking User input.\n",
    "c=0                                            #Defining a variable c.\n",
    "lst_1=[]                                       #Defining a list.\n",
    "import math                                    #Importing math module to use log function.\n",
    "for i in range(int(math.log2(a))+1):           #Iterating to range log2(user input) which will tell how many power of 2 will completely close to input.\n",
    "    c=a%2                                      #giving c the value of remainder when a is divided by 2.\n",
    "    a=int(a/2)                                 \n",
    "    lst_1.append(c)                            #Appending c to lst_1.\n",
    "    \n",
    "for i in list(reversed(lst_1)):                #Reversing the number and then print.\n",
    "    print(i,end=\"\")"
   ]
  },
  {
   "cell_type": "code",
   "execution_count": null,
   "metadata": {},
   "outputs": [],
   "source": [
    "#CONVERTING BINARY TO DECIMAL\n",
    "b=input(\"Enter the binary number:\")           #Taking User input.\n",
    "\n",
    "c=0                                           #Defining a variable c.\n",
    "for i in range(len(b)):                       #Iterating to the range length of input string number.\n",
    "    c+=int(b[len(b)-i-1])*2**i                #Using Mathematical equation for conversion of binary to decimal.\n",
    "\n",
    "print(c)                                      #Printing the converted Decimal number.\n",
    "        \n"
   ]
  }
 ],
 "metadata": {
  "language_info": {
   "name": "python"
  }
 },
 "nbformat": 4,
 "nbformat_minor": 2
}
