{
 "cells": [
  {
   "cell_type": "markdown",
   "metadata": {},
   "source": [
    "Given a positive integer, find out the sum of all integers from 1 up to this number."
   ]
  },
  {
   "cell_type": "code",
   "execution_count": null,
   "metadata": {},
   "outputs": [],
   "source": [
    "num_2=int(input(\"Enter the positive integer:\"))    #Taking the value of positive integer.\n",
    "a=0                                                #Taking a variable in which we will add up all integers till num_2.\n",
    "for i in range(1,num_2+1):                         #Using for loop all the values till num_2 will add up in variable a.\n",
    "    a+=i\n",
    "print(\"Sum of integers from 1 upto\",num_2,\"is:\",a)"
   ]
  }
 ],
 "metadata": {
  "language_info": {
   "name": "python"
  }
 },
 "nbformat": 4,
 "nbformat_minor": 2
}
