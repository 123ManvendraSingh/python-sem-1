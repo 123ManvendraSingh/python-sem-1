{
 "cells": [
  {
   "cell_type": "markdown",
   "metadata": {},
   "source": [
    "Given a positive integer, find out its factorial."
   ]
  },
  {
   "cell_type": "code",
   "execution_count": 1,
   "metadata": {},
   "outputs": [
    {
     "name": "stdout",
     "output_type": "stream",
     "text": [
      "Value of factorial of 9 is: 362880\n"
     ]
    }
   ],
   "source": [
    "num_1=int(input(\"Enter the number:\"))                   #Taking the input for the number.\n",
    "a=1                                                     #Assuming a varibale in which value of factorial will be put.\n",
    "for i in range(2,num_1+1):\n",
    "    a=a*i                                               #Multiplying all the numbers by putting it's value in i till num_1.\n",
    "print(\"Value of factorial of\",num_1,\"is:\",a)\n"
   ]
  }
 ],
 "metadata": {
  "kernelspec": {
   "display_name": "Python 3",
   "language": "python",
   "name": "python3"
  },
  "language_info": {
   "codemirror_mode": {
    "name": "ipython",
    "version": 3
   },
   "file_extension": ".py",
   "mimetype": "text/x-python",
   "name": "python",
   "nbconvert_exporter": "python",
   "pygments_lexer": "ipython3",
   "version": "3.11.6"
  }
 },
 "nbformat": 4,
 "nbformat_minor": 2
}
