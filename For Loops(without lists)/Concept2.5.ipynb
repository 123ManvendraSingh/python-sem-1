{
 "cells": [
  {
   "cell_type": "markdown",
   "metadata": {},
   "source": [
    "Given a positive integer, find out the sum of all odd numbers from 1 up to this number."
   ]
  },
  {
   "cell_type": "code",
   "execution_count": null,
   "metadata": {},
   "outputs": [],
   "source": [
    "num_2=int(input(\"Enter the positive integer:\"))       #Taking input. \n",
    "sum=0                                                 #Taking a variable to add up.\n",
    "for i in range(num_2+1):                              \n",
    "    if i%2!=0:                                        #Checking for the odd number till range of num_2.\n",
    "        sum+=i                                        #Adding all odd number in variable sum.\n",
    "print(sum,\"is the sum of all odd numbers from 1 up to this number.\")"
   ]
  }
 ],
 "metadata": {
  "language_info": {
   "name": "python"
  }
 },
 "nbformat": 4,
 "nbformat_minor": 2
}
